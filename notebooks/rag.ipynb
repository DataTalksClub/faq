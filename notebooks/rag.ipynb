{
 "cells": [
  {
   "cell_type": "code",
   "execution_count": null,
   "id": "c8d55ea3-83fd-470b-bcd4-6e03b2d00dad",
   "metadata": {},
   "outputs": [],
   "source": [
    "import yaml\n",
    "from pathlib import Path\n",
    "\n",
    "from minsearch import Index"
   ]
  },
  {
   "cell_type": "code",
   "execution_count": 18,
   "id": "e222d8b3-85e8-46d6-aa36-e9f5b7227262",
   "metadata": {},
   "outputs": [],
   "source": [
    "def parse_metadata(content):\n",
    "    return yaml.safe_load(content)\n",
    "\n",
    "def parse_frontmatter(content):\n",
    "    if not content.startswith('---'):\n",
    "        return {}, content\n",
    "\n",
    "    try:\n",
    "        # Split frontmatter and content\n",
    "        parts = content.split('---', 2)\n",
    "        if len(parts) < 3:\n",
    "            return {}, content\n",
    "        \n",
    "        frontmatter = yaml.safe_load(parts[1])\n",
    "        markdown_content = parts[2].strip()\n",
    "        \n",
    "        return frontmatter or {}, markdown_content\n",
    "    except yaml.YAMLError:\n",
    "        return {}, content\n"
   ]
  },
  {
   "cell_type": "code",
   "execution_count": 79,
   "id": "a2240f81-efdb-4c47-b4f6-a131163bee2b",
   "metadata": {},
   "outputs": [],
   "source": [
    "def read_metadata(course_dir):\n",
    "    metadata_file = course_dir / '_metadata.yaml'\n",
    "    content = metadata_file.read_text(encoding='utf8')\n",
    "    metadata = parse_metadata(content)\n",
    "    return metadata"
   ]
  },
  {
   "cell_type": "code",
   "execution_count": 80,
   "id": "9166b545-1203-4541-95e0-32cffed32ae8",
   "metadata": {},
   "outputs": [],
   "source": [
    "def read_questions(course_dir: Path) -> list[dict]:\n",
    "    course_id = course_dir.name\n",
    "\n",
    "    metadata = read_metadata(course_dir)\n",
    "    course_sections = {d['id']: d['name'] for d in metadata['sections']}\n",
    "\n",
    "    documents = []\n",
    "\n",
    "    for question_file in course_dir.glob('*/*.md'):\n",
    "        content = question_file.read_text(encoding='utf8')\n",
    "        fm, answer = parse_frontmatter(content)\n",
    "    \n",
    "        section_dir = question_file.parent\n",
    "        section_id = section_dir.name\n",
    "        course_dir = section_dir.parent\n",
    "        course_id = course_dir.name\n",
    "    \n",
    "        section_name = course_sections.get(section_id, section_id)\n",
    "    \n",
    "        document = {\n",
    "            'course': course_id,\n",
    "            'section': section_name,\n",
    "            'section_id': section_id,\n",
    "            'question': fm['question'],\n",
    "            'answer': answer,\n",
    "            'document_id': fm['id']\n",
    "        }\n",
    "    \n",
    "        documents.append(document)\n",
    "    return documents"
   ]
  },
  {
   "cell_type": "code",
   "execution_count": 82,
   "id": "f97d154c-394f-4c69-9f9f-a254689b195d",
   "metadata": {},
   "outputs": [],
   "source": [
    "questions_root = Path('../_questions/')\n",
    "\n",
    "course_name = 'data-engineering-zoomcamp'\n"
   ]
  },
  {
   "cell_type": "code",
   "execution_count": 92,
   "id": "faf0b583-608a-465b-87b0-1d9e7af5aeb4",
   "metadata": {},
   "outputs": [],
   "source": [
    "documents = []\n",
    "\n",
    "for course_dir in questions_root.iterdir():\n",
    "    course_documents = read_questions(course_dir)\n",
    "    documents.extend(course_documents)"
   ]
  },
  {
   "cell_type": "code",
   "execution_count": 95,
   "id": "4a6c9093-119e-4376-ab4e-d8bdf8713480",
   "metadata": {},
   "outputs": [
    {
     "data": {
      "text/plain": [
       "1177"
      ]
     },
     "execution_count": 95,
     "metadata": {},
     "output_type": "execute_result"
    }
   ],
   "source": [
    "len(documents)"
   ]
  },
  {
   "cell_type": "code",
   "execution_count": 93,
   "id": "b6a2b5f2-acc1-4daa-ac8b-da02f053e8b8",
   "metadata": {},
   "outputs": [],
   "source": [
    "index = Index(\n",
    "    text_fields=['section', 'question', 'answer'],\n",
    "    keyword_fields=['course', 'section_id'],\n",
    ")"
   ]
  },
  {
   "cell_type": "code",
   "execution_count": 94,
   "id": "fc142bde-3c50-4fca-8849-9e30d1341643",
   "metadata": {},
   "outputs": [
    {
     "data": {
      "text/plain": [
       "<minsearch.minsearch.Index at 0x1dbe82ee850>"
      ]
     },
     "execution_count": 94,
     "metadata": {},
     "output_type": "execute_result"
    }
   ],
   "source": [
    "index.fit(documents)"
   ]
  },
  {
   "cell_type": "code",
   "execution_count": 96,
   "id": "3b67c0cb-9a2d-4a5d-b677-41b5d688c177",
   "metadata": {},
   "outputs": [
    {
     "data": {
      "text/plain": [
       "[{'course': 'machine-learning-zoomcamp',\n",
       "  'section': 'Module 5. Deploying Machine Learning Models',\n",
       "  'section_id': 'module-5',\n",
       "  'question': 'How do I resolve the \"No module named flask\" error?',\n",
       "  'answer': 'I initially installed Flask with pipenv, but I received a \"No module named \\'flask\\'\" error. I then reinstalled Flask using pip, and after that, I was able to import Flask successfully.',\n",
       "  'document_id': 'ec6919a46b'},\n",
       " {'course': 'machine-learning-zoomcamp',\n",
       "  'section': 'Module 10. Kubernetes and TensorFlow Serving',\n",
       "  'section_id': 'module-10',\n",
       "  'question': \"TypeError: __init__() got an unexpected keyword argument 'unbound_message' while importing Flask\",\n",
       "  'answer': \"In video 10.3, while testing a Flask service, the following error occurred:\\n\\n```\\nTypeError: __init__() got an unexpected keyword argument 'unbound_message'\\n```\\n\\nThis error was encountered when running `docker run ...` in one terminal and then executing `python gateway.py` in another terminal.\\n\\n\\n\\nThis issue is related to the versions of Flask and Werkzeug.\\n\\nTo debug the issue:\\n\\n1. Run `pip freeze > requirements.txt` to check the installed versions of Flask and Werkzeug.\\n   - Example output:\\n     ```\\n     Flask==2.2.2\\n     Werkzeug==2.2.2\\n     ```\\n2. The error occurs when using an old version of Werkzeug (2.2.2) with a new version of Flask (2.2.2).\\n3. To resolve, pin the version of Flask to an older version:\\n   \\n   ```bash\\n   pipenv install Flask==2.1.3\\n   ```\\n\\nThis should resolve the compatibility issue.\",\n",
       "  'document_id': 'b062fc29e5'},\n",
       " {'course': 'mlops-zoomcamp',\n",
       "  'section': 'Module 2: Experiment Tracking',\n",
       "  'section_id': 'module-2',\n",
       "  'question': \"TypeError: send_file() unexpected keyword 'max_age' during MLflow UI Launch\",\n",
       "  'answer': \"**Problem:** When running `$ mlflow ui` on a remote server and attempting to open it in a local browser, the following exception occurs, and the MLflow UI page does not load.\\n\\n**Solution:**\\n\\n1. Uninstall Flask on your remote server by using:\\n   \\n   ```bash\\n   pip uninstall flask\\n   ```\\n   \\n2. Reinstall Flask with:\\n   \\n   ```bash\\n   pip install Flask\\n   ```\\n   \\n   This issue arises because the base conda environment includes a version of Flask that's less than 1.2. Cloning this environment retains the older version, causing the error. Installing a newer version of Flask resolves the issue.\",\n",
       "  'document_id': 'ad15f21a9f'},\n",
       " {'course': 'machine-learning-zoomcamp',\n",
       "  'section': 'Module 5. Deploying Machine Learning Models',\n",
       "  'section_id': 'module-5',\n",
       "  'question': \"What's the advantage of using Gunicorn with Flask in Docker?\",\n",
       "  'answer': 'Gunicorn is a Python WSGI HTTP server that is more suitable for production than the default Flask development server:\\n\\n- **Performance**: Better at handling multiple simultaneous requests.\\n- **Stability**: More robust and can manage worker processes.\\n\\n**Usage**:\\n\\nModify the CMD in your Dockerfile:\\n\\n```dockerfile\\nCMD [\"gunicorn\", \"--bind\", \"0.0.0.0:9696\", \"app:app\"]\\n```',\n",
       "  'document_id': '11f27e4673'},\n",
       " {'course': 'mlops-zoomcamp',\n",
       "  'section': 'General Course-Related Questions',\n",
       "  'section_id': 'general',\n",
       "  'question': 'Course: How do I start?',\n",
       "  'answer': 'No matter if you\\'re with a \\'live\\' cohort or following in self-paced mode, start by:\\n\\n- Reading pins and bookmarks on the course channel to see what things are where.\\n\\n  <{IMAGE:image_1}>\\n\\n  <{IMAGE:image_2}>\\n\\n- Reading the repository (bookmarked in channel) and watching the video lessons (playlist bookmarked in channel).\\n\\n- If you have questions, search the channel itself first; someone may have already asked and gotten a solution.\\n\\n- For the most Frequently Asked Questions, refer to this document:\\n\\n  <{IMAGE:image_3}>\\n\\n- If you don\\'t want to read/skimmer/search the FAQ document, tag the `@ZoomcampQABot` when asking questions, and it will summarize answers from its knowledge base.\\n\\n- For generic, non-zoomcamp queries, consider using tools like ChatGPT, BingCopilot, or Google Gemini, especially for error messages.\\n\\n- Check if you\\'re on track by checking the deadlines in the Course Management form for homework submissions.\\n\\nThe main difference if you\\'re not in a \"live\" cohort is that responses to your questions might be delayed because fewer active students are online. This won\\'t be an issue if you do your own due diligence by searching for answers first and reading the documentation of the library.\\n\\n- If you need to ask questions and the resources above haven\\'t helped, follow the guidelines in the `asking-questions.md` document (bookmarked in channel) and also check the Pins.',\n",
       "  'document_id': '418e8948e7'},\n",
       " {'course': 'mlops-zoomcamp',\n",
       "  'section': 'General Course-Related Questions',\n",
       "  'section_id': 'general',\n",
       "  'question': 'Cohort: Will there be a 2024 Cohort? When will the 2024 cohort start?',\n",
       "  'answer': 'Yes, it will start in May 2024.',\n",
       "  'document_id': '4c40b4805c'},\n",
       " {'course': 'data-engineering-zoomcamp',\n",
       "  'section': 'Module 4: Analytics Engineering with dbt',\n",
       "  'section_id': 'module-4',\n",
       "  'question': 'Errors when I start the server in dbt cloud: Failed to start server. Permission denied (publickey)',\n",
       "  'answer': '```\\nFailed to start server. Permission denied (publickey). fatal: Could not read from remote repository. Please make sure you have the correct access rights and the repository exists.\\n```\\n\\nUse the deploy keys in dbt repo details to create a public key in your repo, the issue will be solved.\\n\\nSteps in detail:\\n\\n1. **Find dbt Cloud’s SSH Key**\\n   - In dbt Cloud, go to **Settings > Account Settings > SSH Keys**\\n   - Copy the public SSH key displayed there.\\n\\n2. **Add It to GitHub**\\n   - Go to **GitHub > Settings > SSH and GPG Keys**\\n   - Click \"New SSH Key\", name it \"dbt Cloud\", and paste the key.\\n   - Click \"Add SSH Key\".\\n\\n3. **Try Restarting dbt Cloud**',\n",
       "  'document_id': '32a878b1d5'},\n",
       " {'course': 'machine-learning-zoomcamp',\n",
       "  'section': 'Module 5. Deploying Machine Learning Models',\n",
       "  'section_id': 'module-5',\n",
       "  'question': \"ConnectionError: ('Connection aborted.', RemoteDisconnected('Remote end closed connection without response'))\",\n",
       "  'answer': \"Set the host to '0.0.0.0' on the Flask app and Dockerfile, then run the URL using localhost.\",\n",
       "  'document_id': 'f2f7180201'},\n",
       " {'course': 'data-engineering-zoomcamp',\n",
       "  'section': 'Module 3: Data Warehousing',\n",
       "  'section_id': 'module-3',\n",
       "  'question': 'Python: invalid start byte Error Message',\n",
       "  'answer': '```python\\nUnicodeDecodeError: \\'utf-8\\' codec can\\'t decode byte 0xa0 in position 41721: invalid start byte\\n```\\n\\nSolution:\\n\\n1. When reading the data from the web into the pandas dataframe, specify the encoding:\\n   \\n   ```python\\n   pd.read_csv(dataset_url, low_memory=False, encoding=\\'latin1\\')\\n   ```\\n\\n2. When writing the dataframe from the local system to GCS as a CSV, specify the encoding:\\n   \\n   ```python\\n   df.to_csv(path_on_gsc, compression=\"gzip\", encoding=\\'utf-8\\')\\n   ```\\n\\nAlternative: Use `pd.read_parquet(url)`.',\n",
       "  'document_id': '55b6d6256f'},\n",
       " {'course': 'data-engineering-zoomcamp',\n",
       "  'section': 'General Course-Related Questions',\n",
       "  'section_id': 'general',\n",
       "  'question': 'Course: When does the course start?',\n",
       "  'answer': \"The next cohort starts January 13th, 2025. More info at [DTC](https://datatalks.club/blog/guide-to-free-online-courses-at-datatalks-club.html).\\n\\n- Register before the course starts using this [link](https://airtable.com/shr6oVXeQvSI5HuWD).\\n- Join the [course Telegram channel with announcements](https://t.me/dezoomcamp).\\n- Don’t forget to register in DataTalks.Club's Slack and join the channel.\",\n",
       "  'document_id': '9e508f2212'}]"
      ]
     },
     "execution_count": 96,
     "metadata": {},
     "output_type": "execute_result"
    }
   ],
   "source": [
    "index.search('flask dont start')"
   ]
  },
  {
   "cell_type": "code",
   "execution_count": null,
   "id": "3b5533cb-4c97-4dcb-84ef-3ee397209c5f",
   "metadata": {},
   "outputs": [],
   "source": []
  },
  {
   "cell_type": "code",
   "execution_count": null,
   "id": "a0324478-d9c7-429f-860a-8e82aa69bf45",
   "metadata": {},
   "outputs": [],
   "source": []
  }
 ],
 "metadata": {
  "kernelspec": {
   "display_name": "Python 3 (ipykernel)",
   "language": "python",
   "name": "python3"
  },
  "language_info": {
   "codemirror_mode": {
    "name": "ipython",
    "version": 3
   },
   "file_extension": ".py",
   "mimetype": "text/x-python",
   "name": "python",
   "nbconvert_exporter": "python",
   "pygments_lexer": "ipython3",
   "version": "3.13.5"
  }
 },
 "nbformat": 4,
 "nbformat_minor": 5
}
