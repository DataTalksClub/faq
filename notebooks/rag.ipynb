{
 "cells": [
  {
   "cell_type": "code",
   "execution_count": 18,
   "id": "e222d8b3-85e8-46d6-aa36-e9f5b7227262",
   "metadata": {},
   "outputs": [],
   "source": [
    "import yaml\n",
    "\n",
    "def parse_metadata(content):\n",
    "    return yaml.safe_load(content)\n",
    "\n",
    "def parse_frontmatter(content):\n",
    "    if not content.startswith('---'):\n",
    "        return {}, content\n",
    "\n",
    "    try:\n",
    "        # Split frontmatter and content\n",
    "        parts = content.split('---', 2)\n",
    "        if len(parts) < 3:\n",
    "            return {}, content\n",
    "        \n",
    "        frontmatter = yaml.safe_load(parts[1])\n",
    "        markdown_content = parts[2].strip()\n",
    "        \n",
    "        return frontmatter or {}, markdown_content\n",
    "    except yaml.YAMLError:\n",
    "        return {}, content\n"
   ]
  },
  {
   "cell_type": "code",
   "execution_count": 19,
   "id": "8d2cb777-17ee-4cfe-98ce-72a0c545a748",
   "metadata": {},
   "outputs": [],
   "source": [
    "from pathlib import Path"
   ]
  },
  {
   "cell_type": "code",
   "execution_count": 20,
   "id": "6785181d-ae77-45ed-84d4-34d575de181f",
   "metadata": {},
   "outputs": [],
   "source": [
    "questions_root = Path('../_questions/')"
   ]
  },
  {
   "cell_type": "code",
   "execution_count": 24,
   "id": "666aa62b-d3c8-40d9-9062-7b9b344543f4",
   "metadata": {},
   "outputs": [
    {
     "data": {
      "text/plain": [
       "'data-engineering-zoomcamp'"
      ]
     },
     "execution_count": 24,
     "metadata": {},
     "output_type": "execute_result"
    }
   ],
   "source": []
  },
  {
   "cell_type": "code",
   "execution_count": 25,
   "id": "255c50dd-1c01-4ceb-8295-5d0b2c1930ba",
   "metadata": {},
   "outputs": [],
   "source": [
    "course_sections = {}\n",
    "\n",
    "for metadata_file in questions_root.glob('*/_metadata.yaml'):\n",
    "    content = metadata_file.read_text(encoding='utf8')\n",
    "    metadata = parse_metadata(content)\n",
    "\n",
    "    course_id = metadata_file.parent.name\n",
    "    sections = {d['id']: d['name'] for d in metadata['sections']}\n",
    "\n",
    "    course_sections[course_id] = sections"
   ]
  },
  {
   "cell_type": "code",
   "execution_count": 36,
   "id": "f5b26175-77d1-43bb-9c7c-0a58e2cafe52",
   "metadata": {
    "scrolled": true
   },
   "outputs": [],
   "source": [
    "question_file = list()[0]"
   ]
  },
  {
   "cell_type": "code",
   "execution_count": 39,
   "id": "f9cf0220-8447-4c54-ad08-697894297ae6",
   "metadata": {},
   "outputs": [],
   "source": []
  },
  {
   "cell_type": "code",
   "execution_count": 43,
   "id": "9166b545-1203-4541-95e0-32cffed32ae8",
   "metadata": {},
   "outputs": [],
   "source": [
    "documents = []\n",
    "\n",
    "for question_file in questions_root.glob('**/*.md'):\n",
    "    content = question_file.read_text(encoding='utf8')\n",
    "    fm, answer = parse_frontmatter(content)\n",
    "\n",
    "    section_dir = question_file.parent\n",
    "    section_id = section_dir.name\n",
    "    course_dir = module_dir.parent\n",
    "    course_id = course_dir.name\n",
    "\n",
    "    section_name = course_sections[course_id].get(section_id, section_id)\n",
    "    document = {\n",
    "        'course': course_id,\n",
    "        'section': section_name,\n",
    "        'section_id': section_id,\n",
    "        'question': fm['question'],\n",
    "        'answer': answer,\n",
    "        'document_id': fm['id']\n",
    "    }\n",
    "\n",
    "    documents.append(document)"
   ]
  },
  {
   "cell_type": "code",
   "execution_count": 44,
   "id": "14b7f275-ce0e-48a2-b237-1977107b3989",
   "metadata": {},
   "outputs": [
    {
     "data": {
      "text/plain": [
       "1177"
      ]
     },
     "execution_count": 44,
     "metadata": {},
     "output_type": "execute_result"
    }
   ],
   "source": [
    "len(documents)"
   ]
  },
  {
   "cell_type": "code",
   "execution_count": 46,
   "id": "75f230d4-2c10-4e83-a624-08a2a70584d7",
   "metadata": {},
   "outputs": [
    {
     "data": {
      "text/plain": [
       "{'course': 'mlops-zoomcamp',\n",
       " 'section': 'General Course-Related Questions',\n",
       " 'section_id': 'general',\n",
       " 'question': 'Is it going to be live? When?',\n",
       " 'answer': 'The course videos are pre-recorded, and you can start watching the course right now.\\n\\nThe zoomcamps are spread out throughout the year. See the article [Guide to Free Online Courses at DataTalks Club](https://datatalks.club/blog/guide-to-free-online-courses-at-datatalks-club.html).\\n\\nWe will also occasionally have office hours—live sessions where we will answer your questions. The office hours sessions are recorded too.\\n\\nYou can see the office hours (playlist with year 20xx) as well as the pre-recorded course videos in the Course Channel’s Bookmarks and/or [DTC’s YouTube channel](https://www.youtube.com/@DataTalksClub/playlists).',\n",
       " 'document_id': '7f10dde6f8'}"
      ]
     },
     "execution_count": 46,
     "metadata": {},
     "output_type": "execute_result"
    }
   ],
   "source": [
    "documents[1]"
   ]
  },
  {
   "cell_type": "code",
   "execution_count": null,
   "id": "06803853-967f-4210-8718-c9cc55ed605d",
   "metadata": {},
   "outputs": [],
   "source": []
  }
 ],
 "metadata": {
  "kernelspec": {
   "display_name": "Python 3 (ipykernel)",
   "language": "python",
   "name": "python3"
  },
  "language_info": {
   "codemirror_mode": {
    "name": "ipython",
    "version": 3
   },
   "file_extension": ".py",
   "mimetype": "text/x-python",
   "name": "python",
   "nbconvert_exporter": "python",
   "pygments_lexer": "ipython3",
   "version": "3.13.5"
  }
 },
 "nbformat": 4,
 "nbformat_minor": 5
}
