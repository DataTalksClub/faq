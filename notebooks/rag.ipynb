{
 "cells": [
  {
   "cell_type": "code",
   "execution_count": null,
   "id": "c8d55ea3-83fd-470b-bcd4-6e03b2d00dad",
   "metadata": {},
   "outputs": [],
   "source": [
    "import yaml\n",
    "from pathlib import Path\n",
    "\n",
    "from minsearch import Index"
   ]
  },
  {
   "cell_type": "code",
   "execution_count": 123,
   "id": "56936ece-eec2-416c-9161-aa2dac9c300c",
   "metadata": {},
   "outputs": [],
   "source": [
    "import json"
   ]
  },
  {
   "cell_type": "code",
   "execution_count": 18,
   "id": "e222d8b3-85e8-46d6-aa36-e9f5b7227262",
   "metadata": {},
   "outputs": [],
   "source": [
    "def parse_metadata(content):\n",
    "    return yaml.safe_load(content)\n",
    "\n",
    "def parse_frontmatter(content):\n",
    "    if not content.startswith('---'):\n",
    "        return {}, content\n",
    "\n",
    "    try:\n",
    "        # Split frontmatter and content\n",
    "        parts = content.split('---', 2)\n",
    "        if len(parts) < 3:\n",
    "            return {}, content\n",
    "        \n",
    "        frontmatter = yaml.safe_load(parts[1])\n",
    "        markdown_content = parts[2].strip()\n",
    "        \n",
    "        return frontmatter or {}, markdown_content\n",
    "    except yaml.YAMLError:\n",
    "        return {}, content\n"
   ]
  },
  {
   "cell_type": "code",
   "execution_count": 315,
   "id": "0c04b065-d5c6-42c9-bd2b-ed8b2dbffb6c",
   "metadata": {},
   "outputs": [],
   "source": [
    "def write_frontmatter(question_file, frontmatter_data, content):\n",
    "    with open(question_file, 'w', encoding='utf-8') as f:\n",
    "        f.write('---\\n')\n",
    "        yaml.dump(frontmatter_data, f, default_flow_style=False, allow_unicode=True)\n",
    "        f.write('---\\n\\n')\n",
    "\n",
    "        f.write(f'{content}')"
   ]
  },
  {
   "cell_type": "code",
   "execution_count": 79,
   "id": "a2240f81-efdb-4c47-b4f6-a131163bee2b",
   "metadata": {},
   "outputs": [],
   "source": [
    "def read_metadata(course_dir):\n",
    "    metadata_file = course_dir / '_metadata.yaml'\n",
    "    content = metadata_file.read_text(encoding='utf8')\n",
    "    metadata = parse_metadata(content)\n",
    "    return metadata"
   ]
  },
  {
   "cell_type": "code",
   "execution_count": 101,
   "id": "9166b545-1203-4541-95e0-32cffed32ae8",
   "metadata": {},
   "outputs": [],
   "source": [
    "def read_questions(course_dir: Path) -> list[dict]:\n",
    "    course_id = course_dir.name\n",
    "\n",
    "    metadata = read_metadata(course_dir)\n",
    "    course_sections = {d['id']: d['name'] for d in metadata['sections']}\n",
    "\n",
    "    documents = []\n",
    "\n",
    "    for question_file in course_dir.glob('*/*.md'):\n",
    "        content = question_file.read_text(encoding='utf8')\n",
    "        fm, answer = parse_frontmatter(content)\n",
    "    \n",
    "        section_dir = question_file.parent\n",
    "        section_id = section_dir.name\n",
    "        course_dir = section_dir.parent\n",
    "        course_id = course_dir.name\n",
    "    \n",
    "        section_name = course_sections.get(section_id, section_id)\n",
    "    \n",
    "        document = {\n",
    "            'course': course_id,\n",
    "            'section': section_name,\n",
    "            'section_id': section_id,\n",
    "            'question': fm['question'],\n",
    "            'answer': answer,\n",
    "            'document_id': fm['id'],\n",
    "            'sort_order': fm['sort_order']\n",
    "        }\n",
    "    \n",
    "        documents.append(document)\n",
    "    return documents"
   ]
  },
  {
   "cell_type": "code",
   "execution_count": 257,
   "id": "ff064186-4dd0-4db5-98ba-ae058f225407",
   "metadata": {},
   "outputs": [],
   "source": [
    "def find_question_files(course_dir: Path) -> dict[str, Path]:\n",
    "    docs = {}\n",
    "    for question_file in course_dir.glob('*/*.md'):\n",
    "        parts = question_file.name.split('_', maxsplit=3)\n",
    "        doc_id = parts[1]\n",
    "        docs[doc_id] = question_file\n",
    "    return docs"
   ]
  },
  {
   "cell_type": "code",
   "execution_count": 204,
   "id": "862fc6c8-58a3-4167-b5b1-e69d8f6909fa",
   "metadata": {},
   "outputs": [],
   "source": [
    "def keep_relevant(results):\n",
    "    new_results = []\n",
    "\n",
    "    for d in results:\n",
    "        d = d.copy()\n",
    "        del d['course']\n",
    "        del d['section']\n",
    "        new_results.append(d)\n",
    "\n",
    "    return new_results"
   ]
  },
  {
   "cell_type": "code",
   "execution_count": 454,
   "id": "c0d35142-999f-4beb-8436-4e5dd775a690",
   "metadata": {},
   "outputs": [],
   "source": [
    "def find_largest_sort_order(section_dir):\n",
    "    last = sorted(section_dir.iterdir())[-1]\n",
    "    sort_order, _ = last.name.split('_', maxsplit=1)\n",
    "    return int(sort_order) + 1"
   ]
  },
  {
   "cell_type": "code",
   "execution_count": 180,
   "id": "a0fde0ea-e59b-4104-bb0b-652c7167a39c",
   "metadata": {},
   "outputs": [],
   "source": [
    "import hashlib\n",
    "\n",
    "def generate_document_id(question, answer, existing_ids):\n",
    "    base_text = question + ' ' + answer\n",
    "\n",
    "    document_id = hashlib.md5(base_text.encode()).hexdigest()[:10]\n",
    "\n",
    "    if document_id not in existing_ids:\n",
    "        return document_id\n",
    "    \n",
    "    counter = 1\n",
    "    while True:\n",
    "        collision_text = f\"{base_text}_{counter}\"\n",
    "        collision_id = hashlib.md5(collision_text.encode()).hexdigest()[:10]\n",
    "        if collision_id not in existing_ids:\n",
    "            return collision_id\n",
    "        counter += 1\n"
   ]
  },
  {
   "cell_type": "code",
   "execution_count": 431,
   "id": "ce715c88-d593-4e71-973f-2a6bc4c0ceb6",
   "metadata": {},
   "outputs": [],
   "source": [
    "prompt_template = \"\"\"\n",
    "<ENTRY>\n",
    "{entry}\n",
    "</ENTRY>\n",
    "<SEARCH_RESULTS>\n",
    "{results}\n",
    "</SEARCH_RESULTS>\n",
    "<SECTIONS>\n",
    "{sections}\n",
    "</SECTIONS>\n",
    "\"\"\".strip()\n",
    "\n",
    "system_prompt = \"\"\"\n",
    "You are an assistant that helps maintain a student FAQ repository.\n",
    "\n",
    "Given:\n",
    "1. A new proposal in ENTRY\n",
    "2. A set of top similar existing FAQs in SEARCH_RESULTS\n",
    "\n",
    "You must decide one of:\n",
    "- `NEW`: create a new FAQ file\n",
    "- `UPDATE:<document_id>`: the proposal adds meaningful info to an existing FAQ\n",
    "- `DUPLICATE:<document_id>`: the proposal is already fully covered, no need to update or add\n",
    "\n",
    "Rules\n",
    "- NEW if the question is not covered in FAQ\n",
    "- UPDATE if the existing FAQ is about the same issue but missing context or details\n",
    "- DUPLICATE if the existing FAQ already answers the question fully\n",
    "- Do not invent unrelated content, base decisions strictly on the provided proposal and FAQ excerpts\n",
    "- When UPDATE, merge old and new answers into one, making the updated answer complete and containing all the information from both\n",
    "- When UPDATE, make sure the new question is reflective of the both new and old records\n",
    "- Carefully analyse existing sections to decide where it goes. Generic questions that don't fit any other section should go to \"general\"\n",
    "\n",
    "Example reasoning\n",
    "- If two FAQs are semantically the same but wording differs slightly → DUPLICATE.\n",
    "- If an FAQ exists but lacks troubleshooting steps the student provided → UPDATE.\n",
    "- If the topic is not covered in existing FAQs → NEW.\n",
    "\"\"\".strip()\n",
    "\n",
    "from typing import List, Optional, Literal\n",
    "from pydantic import BaseModel, Field, model_validator\n",
    "\n",
    "from openai import OpenAI\n",
    "openai_client = OpenAI()\n",
    "\n",
    "\n",
    "class FAQDecision(BaseModel):\n",
    "    \"\"\"\n",
    "    Unified decision object returned by your triage agent.\n",
    "    Contains placement (module/order/title) and action-specific payload.\n",
    "    \"\"\"\n",
    "\n",
    "    # What to do\n",
    "    action: Literal[\"NEW\", \"UPDATE\", \"DUPLICATE\"] = Field(\n",
    "        ...,\n",
    "        description=(\n",
    "            \"Decision:\\n\"\n",
    "            \"- NEW: create a new FAQ file.\\n\"\n",
    "            \"- UPDATE: merge the proposal into an existing FAQ.\\n\"\n",
    "            \"- DUPLICATE: proposal is already covered by an existing FAQ.\"\n",
    "        ),\n",
    "    )\n",
    "    rationale: str = Field(..., description=\"1-2 sentences explaining the decision.\")\n",
    "    document_id: str = Field(\n",
    "        ...,\n",
    "        description=(\n",
    "            \"ID to act on:\\n\"\n",
    "            \"- NEW → document_id to use for the new file.\\n\"\n",
    "            \"- UPDATE/DUPLICATE → document_id of the existing FAQ.\"\n",
    "        ),\n",
    "    )\n",
    "\n",
    "    section_rationale: str = Field(..., description=\"1-2 sentences explaining why this section was chosen\")\n",
    "    section_id: str = Field(..., description=\"Section for this FAQ (e.g 'module-1').\")\n",
    "    \n",
    "    order: int = Field(..., description=\"Integer controlling sort order within the module. Set to number if it should be placed near existing FAQ records, set to -1 it it should go at the end of the section\")\n",
    "\n",
    "    question: str = Field(..., description=\"FAQ question title displayed to users (plain-text question).\")\n",
    "    \n",
    "    \n",
    "    # Action-specific payload\n",
    "    proposed_content: Optional[str] = Field(\n",
    "        None,\n",
    "        description=\"Only for NEW and UPDATE: markdown file with the answer. The question is not included. No headers.\",\n",
    "    )\n",
    "\n",
    "    filename_slug: Optional[str] = Field(\n",
    "        None,\n",
    "        description=\"Only for NEW: file-system friendly slug with hyphens, up to 50 characters\",\n",
    "    )\n",
    "\n",
    "    # Notes\n",
    "    warnings: List[str] = Field(\n",
    "        default_factory=list,\n",
    "        description=\"Optional warnings (e.g., sort order collision, module mismatch).\",\n",
    "    )\n"
   ]
  },
  {
   "cell_type": "code",
   "execution_count": 432,
   "id": "faf0b583-608a-465b-87b0-1d9e7af5aeb4",
   "metadata": {},
   "outputs": [],
   "source": [
    "# documents = []\n",
    "\n",
    "# for course_dir in questions_root.iterdir():\n",
    "#     course_documents = read_questions(course_dir)\n",
    "#     documents.extend(course_documents)\n",
    "\n",
    "# len(documents)"
   ]
  },
  {
   "cell_type": "code",
   "execution_count": 260,
   "id": "f97d154c-394f-4c69-9f9f-a254689b195d",
   "metadata": {},
   "outputs": [],
   "source": [
    "questions_root = Path('../_questions/')\n",
    "\n",
    "course_name = 'machine-learning-zoomcamp'"
   ]
  },
  {
   "cell_type": "code",
   "execution_count": 261,
   "id": "c513b33c-c1b2-4ec4-a0cd-6caf6bf48434",
   "metadata": {},
   "outputs": [],
   "source": [
    "course_dir = questions_root / course_name\n",
    "documents = read_questions(course_dir)\n",
    "\n",
    "metadata = read_metadata(course_dir)"
   ]
  },
  {
   "cell_type": "code",
   "execution_count": 262,
   "id": "545f5b98-687b-4567-b94b-259f07f991a2",
   "metadata": {},
   "outputs": [],
   "source": [
    "doc_index = find_question_files(course_dir)"
   ]
  },
  {
   "cell_type": "code",
   "execution_count": 264,
   "id": "a3c68ed7-675a-4d0e-b689-861f4f85dd24",
   "metadata": {},
   "outputs": [
    {
     "data": {
      "text/plain": [
       "(389, 389)"
      ]
     },
     "execution_count": 264,
     "metadata": {},
     "output_type": "execute_result"
    }
   ],
   "source": [
    "len(doc_index), len(documents)"
   ]
  },
  {
   "cell_type": "code",
   "execution_count": 265,
   "id": "b6a2b5f2-acc1-4daa-ac8b-da02f053e8b8",
   "metadata": {},
   "outputs": [],
   "source": [
    "index = Index(\n",
    "    text_fields=['section', 'question', 'answer'],\n",
    "    keyword_fields=['course', 'section_id'],\n",
    ")"
   ]
  },
  {
   "cell_type": "code",
   "execution_count": 266,
   "id": "fc142bde-3c50-4fca-8849-9e30d1341643",
   "metadata": {},
   "outputs": [
    {
     "data": {
      "text/plain": [
       "<minsearch.minsearch.Index at 0x1dbedb76ad0>"
      ]
     },
     "execution_count": 266,
     "metadata": {},
     "output_type": "execute_result"
    }
   ],
   "source": [
    "index.fit(documents)"
   ]
  },
  {
   "cell_type": "code",
   "execution_count": 391,
   "id": "3b5533cb-4c97-4dcb-84ef-3ee397209c5f",
   "metadata": {},
   "outputs": [],
   "source": [
    "questions_from_launch = \"\"\"\n",
    "## Do I need prior machine learning experience?\n",
    "\n",
    "No. The course starts from first principles. We do an introduction to ML, a gentle math refresher (only what you need), and the basics of linear algebra taught via code. You can begin with zero ML background and ramp up through hands-on exercises.\n",
    "\n",
    "---\n",
    "\n",
    "## Do I need to know Python already?\n",
    "Not strictly, but you must be comfortable programming. If you know another major language (Java, JavaScript, Rust, etc.), you’ll pick up the small subset of Python we use. Expect a lot of coding and “code-along” sessions.\n",
    "\n",
    "---\n",
    "\n",
    "## What other prerequisites should I have?\n",
    "Be ready to use the terminal. You’ll use Git, the command line, Docker, and basic OS tasks. These are demonstrated in the course, but you should be comfortable running commands and reading errors.\n",
    "\n",
    "---\n",
    "\n",
    "## How is the course structured overall?\n",
    "It’s project-first and hands-on. You learn just enough theory to solve practical problems. The core path is: intro → regression → classification → evaluation → deployment → tree-based models → midterm project → neural nets + deployment (Lambda/ONNX) → Kubernetes. There’s an optional, older KServe module.\n",
    "\n",
    "---\n",
    "\n",
    "## What’s new in the 2025 edition?\n",
    "- Deployment module updated to **FastAPI** (replacing Flask) and new tools.  \n",
    "- Neural networks taught with **PyTorch** (theory videos in Keras are kept; an additional PyTorch implementation video is provided).  \n",
    "- Deep learning deployment uses **ONNX Runtime** on AWS Lambda (replacing TensorFlow Lite).\n",
    "\n",
    "---\n",
    "\n",
    "## Where do I find all course materials and links?\n",
    "Everything lives in the main **ML Zoomcamp GitHub repository**. Modules are folders with a README/markdown per unit, videos, and notes. Cohort-specific items (like homework and dates) are under `cohorts/2025/`. The playlist “Machine Learning Zoomcamp” on YouTube contains all lessons.\n",
    "https://github.com/DataTalksClub/machine-learning-zoomcamp/\n",
    "---\n",
    "\n",
    "## Should I star the GitHub repo?\n",
    "Yes, please. Starring helps it trend so others can discover the course. The instructor explicitly asks attendees to star it to boost visibility.\n",
    "https://github.com/DataTalksClub/machine-learning-zoomcamp/\n",
    "\n",
    "---\n",
    "\n",
    "## How do I submit homework?\n",
    "Each module has a homework form with a deadline. Do the tasks locally, **publish your code** (e.g., in your own GitHub repo), then submit your answers via the form and include the URL to your code. Answers are revealed after the deadline closes.\n",
    "Homeworks are in the cohorts folder, e.g. for 2025 it's cohorts/2025 (https://github.com/DataTalksClub/machine-learning-zoomcamp/tree/master/cohorts/2025)\n",
    "the forms for submitting the homework are in the course management platform: https://courses.datatalks.club/\n",
    "\n",
    "---\n",
    "\n",
    "## Are homeworks required to get the certificate?\n",
    "No. Homeworks are optional for certification, but strongly recommended to check understanding. Certification is based on projects, not homework scores.\n",
    "\n",
    "---\n",
    "\n",
    "## What do I need to earn the certificate?\n",
    "You must **pass 2 out of 3 projects**:  \n",
    "- Midterm + Capstone 1, **or**  \n",
    "- Capstone 1 + Capstone 2  \n",
    "Certificates show pass/fail only—no percentage or rank.\n",
    "\n",
    "---\n",
    "\n",
    "## Can I finish early and get the certificate in under four months?\n",
    "No. Project timelines structure the cohort. The earliest certificates typically land around **January** (after Capstone 1/2 windows and reviews).\n",
    "\n",
    "---\n",
    "\n",
    "## Can I skip topics I already know?\n",
    "Yes. All lesson content is optional; only the **projects** are mandatory. Move ahead at your own pace (you don’t need to wait for a “module start” date).\n",
    "\n",
    "---\n",
    "\n",
    "## How are projects run and graded?\n",
    "Each project spans ~3 weeks: ~2 weeks building + **1 week peer review**. You must complete **three peer reviews** to pass. Rubrics focus on practical ML engineering and deployment.\n",
    "\n",
    "---\n",
    "\n",
    "## Are lessons live or recorded?\n",
    "Core lessons are **pre-recorded** and already available. Occasional live streams (like the launch/Q&A) happen but there are no weekly office hours now—use recorded office hours from prior years and the FAQ.\n",
    "\n",
    "---\n",
    "\n",
    "## How do I keep track of lessons and modules?\n",
    "Use the main YouTube playlist “Machine Learning Zoomcamp” for all units. Year-specific playlists (2021–2025) contain cohort-specific streams and extras.\n",
    "\n",
    "---\n",
    "\n",
    "## How do I get answers to common questions?\n",
    "Start with the **FAQ document** (general + per-module Q&A). There’s also a **Zoomcamp Q&A bot** in Slack—use it thoughtfully; often the FAQ or recent messages already contain your answer.\n",
    "\n",
    "---\n",
    "\n",
    "## What are the Slack “house rules”?\n",
    "- Ask course questions in **#course-ml-zoomcamp** (not #general).  \n",
    "- **Use threads** to reply.  \n",
    "- **Paste text/code** instead of screenshots or phone photos.  \n",
    "- Don’t tag instructors; many peers can help and instructors see messages anyway.  \n",
    "- Keep the channel tidy and on-topic.\n",
    "\n",
    "---\n",
    "\n",
    "## How do announcements work?\n",
    "Announcements are posted in the **Telegram channel** and mirrored into Slack. It’s best to join Telegram for clean, broadcast-only updates; otherwise you’ll still see mirrored posts in Slack.\n",
    "\n",
    "---\n",
    "\n",
    "## Which tools do we use for environments: uv or Anaconda?\n",
    "- Install **Python** easily with **Anaconda** (especially on Windows).  \n",
    "- Use **uv** for **virtual environments and package installs** (recommended over `conda` for this course).  \n",
    "The uv + FastAPI workshop is included in Module 5.\n",
    "\n",
    "---\n",
    "\n",
    "## Which language and framework are used for deployment?\n",
    "**Python** with **FastAPI** (updated from Flask). You’ll also package/serve models, containerize, and deploy to cloud/Kubernetes.\n",
    "\n",
    "---\n",
    "\n",
    "## Which cloud provider is used?\n",
    "Examples use **AWS** (you should have or create an AWS account). Concepts transfer to other clouds (GCP/Azure) with minor adjustments.\n",
    "\n",
    "---\n",
    "\n",
    "## Will we cover Spark or big-data tooling?\n",
    "No Spark in this course. Focus is on core ML engineering and deployment patterns.\n",
    "\n",
    "---\n",
    "\n",
    "## Is system design included?\n",
    "No dedicated system-design module. The emphasis is end-to-end ML projects and deployments (web services, Lambda, Kubernetes).\n",
    "\n",
    "---\n",
    "\n",
    "## What datasets are acceptable for projects?\n",
    "Choose something non-toy (e.g., **100+ rows** minimum) that lets you demonstrate the pipeline: data prep → modeling → evaluation → **deployment**. You may also collect your own data.\n",
    "\n",
    "---\n",
    "\n",
    "## Can I use pre-trained models and focus on deployment?\n",
    "Yes, but include **some training element** (fine-tuning, retraining, or comparable) or you’ll lose points in training-related criteria (you can still pass overall if other parts are strong).\n",
    "\n",
    "---\n",
    "\n",
    "## Is there any advantage to high homework/leaderboard scores?\n",
    "Indirectly. The **leaderboard** highlights active learners (correct answers + learning-in-public links). That visibility helps with networking and recruiter attention, even though the certificate itself is pass/fail.\n",
    "\n",
    "---\n",
    "\n",
    "## What’s the recent pass/completion rate?\n",
    "In the last cohort’s dashboard snapshot, roughly **~85%** of project attempts resulted in a pass.\n",
    "\n",
    "---\n",
    "\n",
    "## How do I get help if I’m stuck?\n",
    "- Ask in Slack (paste code/errors; use threads).  \n",
    "- Check the FAQ and past office hours.  \n",
    "- Use AI assistants for quick guidance.  \n",
    "- Peers and instructors (time permitting) will chime in.\n",
    "\n",
    "---\n",
    "\n",
    "## How do I join Slack if the invite email didn’t arrive?\n",
    "Go to DataTalks.Club, request a Slack invite, or use the manual request form (processed daily). After joining, browse channels and join **#course-ml-zoomcamp**.\n",
    "\n",
    "---\n",
    "\n",
    "## Are Jupyter Notebooks used?\n",
    "Yes. You’ll work extensively with notebooks alongside standard Python files and CLI tools.\n",
    "\n",
    "---\n",
    "\n",
    "## Should I use MLflow?\n",
    "It can be useful, especially for experiment tracking, but it’s covered in more depth in the separate **MLOps** course. Here, the focus is on end-to-end ML engineering and deployment.\n",
    "\n",
    "---\n",
    "\n",
    "## I’m a data engineer (Spark/Python/SQL). Will this help me move into DS/ML engineering?\n",
    "Yes. The project-first flow, deployment modules (FastAPI/Lambda/Kubernetes), and evaluation practices map well to ML engineer roles.\n",
    "\n",
    "---\n",
    "\n",
    "## I’m struggling to show “business impact.” Will the course teach that?\n",
    "You’ll learn to build and deploy real ML services. True “business impact” depends on domain context and is best learned **on the job**. Use the course to build a visible, high-quality portfolio you can discuss with employers.\n",
    "\n",
    "---\n",
    "\n",
    "## What strategy do you recommend for an unemployed SWE pivoting to ML/AI soon?\n",
    "Ship projects and **learn in public** daily (posts, blogs, code). Publish everything on GitHub, write about your approach/results, engage on Slack/LinkedIn, and build a network. Use the course projects and optional activities (Kaggle, articles) as portfolio centerpieces.\n",
    "\n",
    "---\n",
    "\n",
    "## Can I start Module 1 now and move ahead faster?\n",
    "Yes. Lessons are already available. You can proceed to later modules without waiting for “official” start dates.\n",
    "\n",
    "---\n",
    "\n",
    "## How often are live sessions/office hours?\n",
    "Aside from the launch and occasional special streams, **no recurring live sessions**. Use recorded office hours from previous years and the FAQ/bot.\n",
    "\n",
    "---\n",
    "\n",
    "## Do I need to “enroll” somewhere before submitting?\n",
    "No. Just log into the homework form when it opens. The Airtable “registration” is for announcements only; submissions happen on the course platform forms and your GitHub.\n",
    "\n",
    "---\n",
    "\n",
    "## Will the repo already have all FastAPI/uv/PyTorch updates?\n",
    "Some updates are live; others are added as the cohort progresses. For theory, older videos remain; for implementation, updated workshops/videos are linked (e.g., FastAPI+uv, PyTorch add-on).\n",
    "\n",
    "---\n",
    "\n",
    "## What exactly is taught in the evaluation module?\n",
    "You’ll learn metrics and diagnostics (e.g., precision, recall, ROC/PR curves), proper evaluation mindsets, and pitfalls. It’s conceptual and abstract but crucial for real-world ML work.\n",
    "\n",
    "---\n",
    "\n",
    "## What projects/models do we build?\n",
    "- **Regression** (predicting car prices; hand-implement linear regression once, then use libraries).  \n",
    "- **Binary classification** (telecom churn; metrics & evaluation).  \n",
    "- **Tree-based models** (credit default risk).  \n",
    "- **Neural nets** (image classification; PyTorch add-on).  \n",
    "- **Deployments**: FastAPI service, **AWS Lambda** with **ONNX Runtime**, and **Kubernetes**.\n",
    "\n",
    "---\n",
    "\n",
    "## Why ONNX Runtime for DL deployment?\n",
    "ONNX lets you **train in TensorFlow or PyTorch** and deploy a common format efficiently with ONNX Runtime, simplifying Lambda/K8s serving compared to framework-specific runtimes.\n",
    "\n",
    "---\n",
    "\n",
    "## Is the KServe module required?\n",
    "No. It’s **optional and outdated**. If time-constrained, prioritize Kubernetes.\n",
    "\n",
    "---\n",
    "\n",
    "## How do donations/sponsorships work?\n",
    "The course is free. Sponsors may be added; voluntary donations help sustain free content. If you have a company training budget, you can request an invoice to support the course.\n",
    "\n",
    "---\n",
    "\n",
    "## Why learn traditional ML if LLMs can “do it for me”?\n",
    "Assistants are great accelerators, but you still need **conceptual understanding** to debug, adapt, and own your systems when AI tools make mistakes or hit limits. The course teaches you to build, reason about, and deploy ML systems you control.\n",
    "\"\"\".strip()"
   ]
  },
  {
   "cell_type": "code",
   "execution_count": 433,
   "id": "a0324478-d9c7-429f-860a-8e82aa69bf45",
   "metadata": {},
   "outputs": [],
   "source": [
    "questions = questions_from_launch.split('---')\n",
    "questions = [q.strip() for q in questions]"
   ]
  },
  {
   "cell_type": "code",
   "execution_count": 434,
   "id": "34256f83-5423-4cf8-9de2-4782932f6c4f",
   "metadata": {},
   "outputs": [
    {
     "name": "stdout",
     "output_type": "stream",
     "text": [
      "## Can I skip topics I already know?\n",
      "Yes. All lesson content is optional; only the **projects** are mandatory. Move ahead at your own pace (you don’t need to wait for a “module start” date).\n"
     ]
    }
   ],
   "source": [
    "q = questions[11]\n",
    "print(q)"
   ]
  },
  {
   "cell_type": "code",
   "execution_count": 435,
   "id": "4a2cf7f2-ab0c-4931-bf80-38f9b0b8ea2b",
   "metadata": {},
   "outputs": [],
   "source": [
    "results = index.search(q, num_results=5)\n",
    "results = keep_relevant(results)\n",
    "\n",
    "prompt = prompt_template.format(\n",
    "    entry=q,\n",
    "    results=json.dumps(results),\n",
    "    sections=json.dumps(metadata['sections'])\n",
    ")\n",
    "\n",
    "messages = [\n",
    "    {\"role\": \"system\", \"content\": system_prompt},\n",
    "    {\"role\": \"user\", \"content\": prompt}\n",
    "]\n",
    "\n",
    "response = openai_client.responses.parse(\n",
    "    model=\"gpt-5-nano\",\n",
    "    input=messages,\n",
    "    text_format=FAQDecision,\n",
    ")\n",
    "\n",
    "message = next(filter(lambda o: o.type == 'message', response.output))\n",
    "faq_decision = message.content[0].parsed"
   ]
  },
  {
   "cell_type": "code",
   "execution_count": 436,
   "id": "5acf42a9-86ee-4b72-8d02-42b8ef9bdcb8",
   "metadata": {},
   "outputs": [
    {
     "data": {
      "text/plain": [
       "FAQDecision(action='NEW', rationale='No existing general FAQ covers the ability to skip topics; the proposal introduces a general policy that lesson content is optional and only projects are mandatory.', document_id='skip-topics-optional-content', section_rationale='This is a general course policy about optional content and pacing, suitable for the General section.', section_id='general', order=-1, question='Can I skip topics I already know?', proposed_content='Yes. All lesson content is optional; only the projects are mandatory. Move ahead at your own pace (you don’t need to wait for a “module start” date).', filename_slug='skip-topics-optional-content', warnings=[])"
      ]
     },
     "execution_count": 436,
     "metadata": {},
     "output_type": "execute_result"
    }
   ],
   "source": [
    "faq_decision"
   ]
  },
  {
   "cell_type": "code",
   "execution_count": 438,
   "id": "b9d35970-d6aa-4531-b22a-0e84efad09fe",
   "metadata": {},
   "outputs": [
    {
     "name": "stdout",
     "output_type": "stream",
     "text": [
      "action: NEW\n",
      "\n",
      "rationale: No existing general FAQ covers the ability to skip topics; the proposal introduces a general policy that lesson content is optional and only projects are mandatory.\n",
      "\n",
      "question:\n",
      "Can I skip topics I already know?\n",
      "\n",
      "answer:\n",
      "Yes. All lesson content is optional; only the projects are mandatory. Move ahead at your own pace (you don’t need to wait for a “module start” date).\n",
      "\n",
      "new proposal:\n",
      "## Can I skip topics I already know?\n",
      "Yes. All lesson content is optional; only the **projects** are mandatory. Move ahead at your own pace (you don’t need to wait for a “module start” date).\n",
      "\n",
      "section: general\n",
      "This is a general course policy about optional content and pacing, suitable for the General section.\n",
      "-1\n"
     ]
    }
   ],
   "source": [
    "print('action:', faq_decision.action)\n",
    "print()\n",
    "print('rationale:', faq_decision.rationale)\n",
    "print()\n",
    "print('question:')\n",
    "print(faq_decision.question)\n",
    "print()\n",
    "print('answer:')\n",
    "print(faq_decision.proposed_content)\n",
    "print()\n",
    "print('new proposal:')\n",
    "print(q)\n",
    "print()\n",
    "print('section:', faq_decision.section_id)\n",
    "print(faq_decision.section_rationale)\n",
    "print(faq_decision.order)"
   ]
  },
  {
   "cell_type": "code",
   "execution_count": 445,
   "id": "2f01acbc-ec3e-41b1-8768-992a3864ee19",
   "metadata": {},
   "outputs": [],
   "source": []
  },
  {
   "cell_type": "code",
   "execution_count": 447,
   "id": "91937182-661b-48cb-9296-2ad43e92d811",
   "metadata": {},
   "outputs": [],
   "source": [
    "last = sorted(section_dir.iterdir())[-1]"
   ]
  },
  {
   "cell_type": "code",
   "execution_count": 453,
   "id": "93693596-753d-4629-93e9-3e2a58431675",
   "metadata": {},
   "outputs": [],
   "source": [
    "sort_order, _ = last.name.split('_', maxsplit=1)"
   ]
  },
  {
   "cell_type": "code",
   "execution_count": 455,
   "id": "5dbf25f2-2590-4455-a24a-ad6bd4187c6c",
   "metadata": {},
   "outputs": [
    {
     "data": {
      "text/plain": [
       "101"
      ]
     },
     "execution_count": 455,
     "metadata": {},
     "output_type": "execute_result"
    }
   ],
   "source": []
  },
  {
   "cell_type": "code",
   "execution_count": 419,
   "id": "f23722bd-4d87-45d1-98cd-5b3974c6c4ba",
   "metadata": {},
   "outputs": [
    {
     "name": "stdout",
     "output_type": "stream",
     "text": [
      "..\\_questions\\machine-learning-zoomcamp\\general\\001_7c7ec892e4_certificate-timeline.md\n"
     ]
    }
   ],
   "source": [
    "if faq_decision.action == 'NEW':\n",
    "    doc_id = generate_document_id(\n",
    "        faq_decision.question,\n",
    "        faq_decision.proposed_content,\n",
    "        doc_index\n",
    "    )\n",
    "\n",
    "    sort_order = faq_decision.order\n",
    "    doc_slug = faq_decision.filename_slug\n",
    "    faq_section = faq_decision.section_id\n",
    "\n",
    "    if sort_order == -1:\n",
    "        \n",
    "    fm = {\n",
    "        'id': doc_id,\n",
    "        'question': faq_decision.question,\n",
    "        'sort_order': sort_order,\n",
    "    }\n",
    "\n",
    "    filename = f'{sort_order:03d}_{doc_id}_{doc_slug}.md'\n",
    "    f_out = course_dir / faq_section / filename\n",
    "    write_frontmatter(f_out, fm, faq_decision.proposed_content)\n",
    "    doc_index[doc_id] = f_out\n",
    "    print(f_out)"
   ]
  },
  {
   "cell_type": "code",
   "execution_count": 414,
   "id": "ac9eab28-09af-4630-9bc7-cebba42289eb",
   "metadata": {},
   "outputs": [
    {
     "name": "stdout",
     "output_type": "stream",
     "text": [
      "..\\_questions\\machine-learning-zoomcamp\\projects\\006_8ea1e7e31f_what-if-i-submitted-only-two-projects-and-failed-t.md\n"
     ]
    }
   ],
   "source": [
    "if faq_decision.action == 'UPDATE':\n",
    "    doc_id = faq_decision.document_id\n",
    "    f_out = doc_index[doc_id]\n",
    "\n",
    "    content = f_out.read_text(encoding='utf8')\n",
    "    fm, _ = parse_frontmatter(content)\n",
    "\n",
    "    fm['question'] = faq_decision.question\n",
    "\n",
    "    write_frontmatter(f_out, fm, faq_decision.proposed_content)\n",
    "    print(f_out)"
   ]
  },
  {
   "cell_type": "code",
   "execution_count": 364,
   "id": "af046f3c-3d9f-4301-8e44-e1507707e9e6",
   "metadata": {},
   "outputs": [],
   "source": []
  },
  {
   "cell_type": "code",
   "execution_count": 365,
   "id": "2241da62-5482-46e0-8ff6-992c617319b1",
   "metadata": {},
   "outputs": [
    {
     "data": {
      "text/plain": [
       "WindowsPath('../_questions/machine-learning-zoomcamp/general/001_226a4baf2f_whats-new-2025-edition.md')"
      ]
     },
     "execution_count": 365,
     "metadata": {},
     "output_type": "execute_result"
    }
   ],
   "source": []
  },
  {
   "cell_type": "code",
   "execution_count": 366,
   "id": "c30bbef5-e644-4e1f-9473-a217bbf8a9fe",
   "metadata": {},
   "outputs": [],
   "source": []
  },
  {
   "cell_type": "code",
   "execution_count": 367,
   "id": "85affeab-fc33-4d62-b330-3f314fcdf0d6",
   "metadata": {},
   "outputs": [],
   "source": []
  },
  {
   "cell_type": "code",
   "execution_count": null,
   "id": "b28966e8-e1de-40fa-aae4-105b72b0701f",
   "metadata": {},
   "outputs": [],
   "source": []
  }
 ],
 "metadata": {
  "kernelspec": {
   "display_name": "Python 3 (ipykernel)",
   "language": "python",
   "name": "python3"
  },
  "language_info": {
   "codemirror_mode": {
    "name": "ipython",
    "version": 3
   },
   "file_extension": ".py",
   "mimetype": "text/x-python",
   "name": "python",
   "nbconvert_exporter": "python",
   "pygments_lexer": "ipython3",
   "version": "3.13.5"
  }
 },
 "nbformat": 4,
 "nbformat_minor": 5
}
